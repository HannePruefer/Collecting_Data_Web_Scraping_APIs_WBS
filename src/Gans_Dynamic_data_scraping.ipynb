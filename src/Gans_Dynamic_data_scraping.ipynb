{
 "cells": [
  {
   "cell_type": "markdown",
   "id": "dad88da1-c0de-4bb5-9428-01f59ea0c45f",
   "metadata": {},
   "source": [
    "#  Dynamic Data Collection for GANS Case Study via API "
   ]
  },
  {
   "cell_type": "markdown",
   "id": "e522e395-1d6d-4543-b511-570e28c218c0",
   "metadata": {},
   "source": [
    "TASK_1: Load weather data from OpenWeatherMap via API and load it into the SQL database for the GANS case study.\n",
    "To ccomplish: Extract geo and weather data from Open Weather API that matches each city\n",
    "\n",
    "TASK_2: Load flight from Aero Data box API and load it into the SQL database for the GANS case study.\n",
    "To acomplish: Extract airports and from each airport arrivals that match with cities"
   ]
  },
  {
   "cell_type": "code",
   "execution_count": 201,
   "id": "fac0b7af-36ac-4e4b-80b5-347a9cc76a6b",
   "metadata": {
    "tags": []
   },
   "outputs": [],
   "source": [
    "import pandas as pd\n",
    "import requests\n",
    "import re\n",
    "from bs4 import BeautifulSoup\n",
    "import json\n",
    "from datetime import datetime, timedelta\n",
    "import pymysql\n",
    "import os"
   ]
  },
  {
   "cell_type": "code",
   "execution_count": 203,
   "id": "a3901d24-c76d-47bb-8b43-31fbeb764620",
   "metadata": {},
   "outputs": [],
   "source": [
    "def dynamic_db_setup():\n",
    "    \n",
    "    \"\"\"\n",
    "    This function sets up the dynamic databases by performing the following steps:\n",
    "    1. Establishes a database connection using the connection_setup() function.\n",
    "    2. Retrieves city names from the SQL database.\n",
    "    3. Retrieves latitude and longitude data from the SQL database.\n",
    "    4. Retrieves airport data from the SQL database.\n",
    "    5. Calls an API to retrieve weather data using the geo_data_df.\n",
    "    6. Calls an API to retrieve flights per hour data using the airports_df.\n",
    "    7. Sends the weather data to SQL using the send_weather() function.\n",
    "    8. Sends the flights per hour data to SQL using the send_flights() function.\n",
    "    9. Returns a success message.\n",
    "\n",
    "    Returns:\n",
    "    - str: A message indicating the successful update of data.\n",
    "    \"\"\"\n",
    "    \n",
    "    connection_string = connection_setup()\n",
    "        \n",
    "    # get city names from SQL\n",
    "    cities = pd.read_sql(\"cities\",con=connection_string)\n",
    "    city_lst = cities.city_name.to_list()\n",
    "    # Read latitudes and longitudes from SQL \n",
    "    geo_data_df = pd.read_sql(\"geo_data\", con=connection_string)\n",
    "    latitudes = geo_data_df.latitude.to_list()\n",
    "    longitudes =geo_data_df.longitude.to_list()\n",
    "    # Get airports from sql\n",
    "    airports_df = pd.read_sql(\"airports\", con=connection_string)\n",
    "    # dynamic data\n",
    "    weather_df = weather_api_call(geo_data_df)\n",
    "    flights_per_hour_df = arrivals_api_call(airports_df)\n",
    "    #send to sql\n",
    "    send_weather(weather_df, connection_string)\n",
    "    send_flights(flights_per_hour_df, connection_string)\n",
    "    \n",
    "    return \"data sucessfully updated\""
   ]
  },
  {
   "cell_type": "markdown",
   "id": "d539e69c-ffde-4ebc-97e0-4566732204c8",
   "metadata": {
    "tags": []
   },
   "source": [
    "## Scrape Data"
   ]
  },
  {
   "cell_type": "markdown",
   "id": "7985f75a-a3be-4f13-bf4d-0aebe180380c",
   "metadata": {
    "tags": []
   },
   "source": [
    "### Weather"
   ]
  },
  {
   "cell_type": "code",
   "execution_count": 208,
   "id": "b904be2e-e868-4171-b9a5-9ff09c4187b5",
   "metadata": {
    "tags": []
   },
   "outputs": [],
   "source": [
    "#Use of weather API and use only single values for each city. 3h timestamp with temperature and sky description\n",
    "\n",
    "def weather_api_call(geo_data_df):\n",
    "    \"\"\"\n",
    "    Scrape weather data for a list of cities using the OpenWeatherMap API.\n",
    "    Args:\n",
    "        geo_data_df (pandas.DataFrame): A DataFrame containing geo data with columns 'city_name', 'latitude', and 'longitude'.\n",
    "    Returns:\n",
    "        pandas.DataFrame: A DataFrame containing the scraped weather data with columns 'city_name', 'forecast_time', 'temperature', 'sky', 'rain_in_last_3h', and 'wind_speed'.\n",
    "    \"\"\"\n",
    "    API_key = \"91d16ed59eecaf4ad6eb1e9d19482549\"\n",
    "    weather = {\"city_id\": [], \"forecast_time\": [], \"temperature\": [], \"sky\": [], \"rain_in_last_3h\": [], \"wind_speed\": []}\n",
    "    today = datetime.now().date()\n",
    "    tomorrow = str((today + timedelta(days=1)))\n",
    "\n",
    "    for i in range(geo_data_df[\"latitude\"].count()):\n",
    "        lat = geo_data_df[\"latitude\"].to_list()[i]\n",
    "        lon = geo_data_df[\"longitude\"].to_list()[i]\n",
    "        \n",
    "        url = f\"http://api.openweathermap.org/data/2.5/forecast?lat={lat}&lon={lon}&appid={API_key}&units=metric\"\n",
    "        response = requests.get(url)\n",
    "        json_data = response.json()\n",
    "        \n",
    "        for item in json_data[\"list\"]:\n",
    "            weather[\"city_id\"].append(geo_data_df[\"city_id\"].to_list()[i])\n",
    "            weather[\"forecast_time\"].append(item.get(\"dt_txt\", None))\n",
    "            weather[\"temperature\"].append(item[\"main\"].get(\"temp\", None))\n",
    "            weather[\"sky\"].append(item[\"weather\"][0].get(\"description\", None))\n",
    "            weather[\"rain_in_last_3h\"].append(item.get(\"rain\", {}).get(\"3h\", 0))\n",
    "            weather[\"wind_speed\"].append(item[\"wind\"].get(\"speed\", None))\n",
    "    \n",
    "    weather_df = pd.DataFrame(weather)\n",
    "   \n",
    "    # transform the timestamps to datetime\n",
    "    weather_df[\"forecast_time\"] = pd.to_datetime(weather_df[\"forecast_time\"])\n",
    "\n",
    "    # create a new column with only the day\n",
    "    weather_df[\"forecast_days\"] = weather_df.forecast_time.dt.strftime(\"%Y-%m-%d\")\n",
    "    weather_df[\"forecast_hour\"] = weather_df.forecast_time.dt.strftime(\"%H\")\n",
    "    weather_df[\"forecast_days\"] = pd.to_datetime(weather_df[\"forecast_days\"])\n",
    "    weather_df[\"forecast_hour\"] = weather_df[\"forecast_hour\"].astype(int)\n",
    "    weather_df = weather_df.loc[weather_df[\"forecast_days\"]== tomorrow,:]\n",
    "    \n",
    "    #weather_df = weather_df.loc[]\n",
    "    return weather_df"
   ]
  },
  {
   "cell_type": "markdown",
   "id": "9f3489ce-a9f2-4317-a4a2-f2c1d9825dea",
   "metadata": {
    "tags": []
   },
   "source": [
    "### Flights"
   ]
  },
  {
   "cell_type": "code",
   "execution_count": 210,
   "id": "e0f1c347-1cfc-42f2-bc93-6d09c61967ba",
   "metadata": {
    "tags": []
   },
   "outputs": [],
   "source": [
    "def arrivals_api_call(airports_df):\n",
    "    iata = airports_df[\"iata\"].to_list()\n",
    "    city_id = airports_df[\"city_id\"].to_list()\n",
    "    today  = datetime.now().date()\n",
    "    tomorrow = (today + timedelta(days=1))\n",
    "    half_day = [[\"00:00\",\"11:59\"],[\"12:00\",\"23:59\"]]\n",
    "    headers = {\n",
    "        \"X-RapidAPI-Key\": \"4b54815ac4mshe11ca88893efc1ep170ae5jsn49ac4b2d04a5\",\n",
    "        \"X-RapidAPI-Host\": \"aerodatabox.p.rapidapi.com\"\n",
    "        }\n",
    "    querystring = {\n",
    "        \"direction\": \"Arrival\",\n",
    "        \"withCancelled\": \"false\",\n",
    "        \"withCodeshared\": \"true\",\n",
    "        \"withCargo\": \"false\",\n",
    "        \"withPrivate\": \"false\",\n",
    "        \"withLocation\": \"false\"\n",
    "    }\n",
    "    flights = {\"city_id\": [], \"date\": [], \"arrival\": []}\n",
    "\n",
    "#  For 12 hours 0 - 12 \n",
    "    for hours in half_day:\n",
    "        for i in range(len(iata)):\n",
    "            url = f\"https://aerodatabox.p.rapidapi.com/flights/airports/iata/{iata[i]}/{tomorrow}T{hours[0]}/{tomorrow}T{hours[1]}\"\n",
    "            response = requests.get(url, headers=headers, params=querystring)\n",
    "            json_data = response.json()  \n",
    "            # Parse the JSON response\n",
    "            if \"arrivals\" in json_data:\n",
    "                for item in json_data[\"arrivals\"]:\n",
    "                    flights[\"city_id\"].append(city_id[i])\n",
    "                    flights[\"date\"].append(tomorrow)\n",
    "                    flights[\"arrival\"].append(item[\"movement\"]['scheduledTime'].get(\"local\", None))\n",
    "\n",
    "            else:\n",
    "                print(f\"no arrivals on{dates[j]}\")\n",
    "    new_times = [re.sub(r\"\\+01:00\",\"\",flight) for flight in flights[\"arrival\"]]\n",
    "    flights[\"arrival\"] = new_times    \n",
    "    flights_df = pd.DataFrame(flights)\n",
    "    \n",
    "    flights_df[\"arrival\"] = pd.to_datetime(flights_df[\"arrival\"])\n",
    "    flights_df[\"date\"] = pd.to_datetime(flights_df[\"date\"])\n",
    "    flights_df[\"hour\"] = flights_df[\"arrival\"].dt.strftime(\"%H\")\n",
    "    flights_df[\"hour\"] = pd.to_numeric(flights_df[\"hour\"])\n",
    "    \n",
    "    flights_per_hour_df = flights_df.groupby([\"city_id\",\"date\", \"hour\"]).agg(number_of_flights =(\"arrival\",\"count\")).reset_index()\n",
    "    return flights_per_hour_df"
   ]
  },
  {
   "cell_type": "markdown",
   "id": "76071616-7f42-47f1-bb57-0d192d4b7dde",
   "metadata": {
    "tags": []
   },
   "source": [
    "### Load to the SQL database "
   ]
  },
  {
   "cell_type": "code",
   "execution_count": null,
   "id": "c0fcb240-b591-4c5a-973b-5b1fb485beb2",
   "metadata": {},
   "outputs": [],
   "source": [
    "def connection_setup():\n",
    "    \"\"\"\n",
    "    Sets up the connection string for connecting to a MySQL database.\n",
    "    Returns:\n",
    "    - connection_string (str): The connection string for connecting to the MySQL database.\n",
    "    \"\"\"\n",
    "    schema = \"gans_locations\"\n",
    "    host = \"host\"\n",
    "    user = \"root\"\n",
    "    password =os.environ.get(\"Password\")\n",
    "    port = 3306\n",
    "    connection_string = f'mysql+pymysql://{user}:{password}@{host}:{port}/{schema}'\n",
    "    return connection_string"
   ]
  },
  {
   "cell_type": "code",
   "execution_count": 214,
   "id": "181338a9-ce6c-42ec-8669-3c3961fd5219",
   "metadata": {
    "tags": []
   },
   "outputs": [],
   "source": [
    "def send_weather(weather, connection_string):\n",
    "    \"\"\"\n",
    "    Writes an update of weahter data and day from a pandas DataFrame to a MySQL database table. Replaces - existing Values\n",
    "    for weather updates, and append new days to the Database\n",
    "    \n",
    "    Args:\n",
    "    - weather: set of weather data\n",
    "    - unique days from the weather table\n",
    "    -connection_string: String to connect with MYSQL\n",
    "\n",
    "    Returns:\n",
    "    - None\n",
    "    \"\"\"\n",
    "\n",
    "\n",
    "    weather.to_sql('weather_data',\n",
    "                  if_exists='append',\n",
    "                  con=connection_string,\n",
    "                  index=False)"
   ]
  },
  {
   "cell_type": "code",
   "execution_count": 215,
   "id": "7406a082-e46e-42fd-994e-dfa507f1e21e",
   "metadata": {},
   "outputs": [],
   "source": [
    "def send_flights(flights_per_hour_df, connection_string):\n",
    "    \"\"\"\n",
    "    Writes flight data per day from a pandas DataFrame to a MySQL database table. appends the values for each new day\n",
    "   \n",
    "    Args:\n",
    "    - flights_per hour: dataframe grouped by city, day and hour\n",
    "    -connection_string: String to connect with MYSQL\n",
    "\n",
    "    Returns:\n",
    "    - None\n",
    "    \"\"\"\n",
    "\n",
    "\n",
    "    flights_per_hour_df.to_sql('flight_data',\n",
    "                  if_exists='append',\n",
    "                  con=connection_string,\n",
    "                  index=False)"
   ]
  },
  {
   "cell_type": "markdown",
   "id": "45c5fb55-4b96-4dab-8387-1741ef5ac9ff",
   "metadata": {},
   "source": [
    "## Final"
   ]
  },
  {
   "cell_type": "code",
   "execution_count": 217,
   "id": "edbfaace-e34a-4ce8-ab99-0c31fbddc146",
   "metadata": {
    "tags": []
   },
   "outputs": [
    {
     "data": {
      "text/plain": [
       "'data sucessfully updated'"
      ]
     },
     "execution_count": 217,
     "metadata": {},
     "output_type": "execute_result"
    }
   ],
   "source": [
    "dynamic_db_setup()"
   ]
  },
  {
   "cell_type": "code",
   "execution_count": 218,
   "id": "7ba232f7-ec2e-4557-8930-573f7f798662",
   "metadata": {
    "tags": []
   },
   "outputs": [
    {
     "data": {
      "text/html": [
       "<div>\n",
       "<style scoped>\n",
       "    .dataframe tbody tr th:only-of-type {\n",
       "        vertical-align: middle;\n",
       "    }\n",
       "\n",
       "    .dataframe tbody tr th {\n",
       "        vertical-align: top;\n",
       "    }\n",
       "\n",
       "    .dataframe thead th {\n",
       "        text-align: right;\n",
       "    }\n",
       "</style>\n",
       "<table border=\"1\" class=\"dataframe\">\n",
       "  <thead>\n",
       "    <tr style=\"text-align: right;\">\n",
       "      <th></th>\n",
       "      <th>city_id</th>\n",
       "      <th>date</th>\n",
       "      <th>hour</th>\n",
       "      <th>number_of_flights</th>\n",
       "    </tr>\n",
       "  </thead>\n",
       "  <tbody>\n",
       "    <tr>\n",
       "      <th>0</th>\n",
       "      <td>1</td>\n",
       "      <td>2024-01-18</td>\n",
       "      <td>6</td>\n",
       "      <td>2</td>\n",
       "    </tr>\n",
       "    <tr>\n",
       "      <th>1</th>\n",
       "      <td>1</td>\n",
       "      <td>2024-01-18</td>\n",
       "      <td>7</td>\n",
       "      <td>9</td>\n",
       "    </tr>\n",
       "    <tr>\n",
       "      <th>2</th>\n",
       "      <td>1</td>\n",
       "      <td>2024-01-18</td>\n",
       "      <td>8</td>\n",
       "      <td>8</td>\n",
       "    </tr>\n",
       "    <tr>\n",
       "      <th>3</th>\n",
       "      <td>1</td>\n",
       "      <td>2024-01-18</td>\n",
       "      <td>9</td>\n",
       "      <td>11</td>\n",
       "    </tr>\n",
       "    <tr>\n",
       "      <th>4</th>\n",
       "      <td>1</td>\n",
       "      <td>2024-01-18</td>\n",
       "      <td>10</td>\n",
       "      <td>16</td>\n",
       "    </tr>\n",
       "    <tr>\n",
       "      <th>...</th>\n",
       "      <td>...</td>\n",
       "      <td>...</td>\n",
       "      <td>...</td>\n",
       "      <td>...</td>\n",
       "    </tr>\n",
       "    <tr>\n",
       "      <th>173</th>\n",
       "      <td>5</td>\n",
       "      <td>2024-01-18</td>\n",
       "      <td>18</td>\n",
       "      <td>62</td>\n",
       "    </tr>\n",
       "    <tr>\n",
       "      <th>174</th>\n",
       "      <td>5</td>\n",
       "      <td>2024-01-18</td>\n",
       "      <td>19</td>\n",
       "      <td>112</td>\n",
       "    </tr>\n",
       "    <tr>\n",
       "      <th>175</th>\n",
       "      <td>5</td>\n",
       "      <td>2024-01-18</td>\n",
       "      <td>20</td>\n",
       "      <td>83</td>\n",
       "    </tr>\n",
       "    <tr>\n",
       "      <th>176</th>\n",
       "      <td>5</td>\n",
       "      <td>2024-01-18</td>\n",
       "      <td>21</td>\n",
       "      <td>10</td>\n",
       "    </tr>\n",
       "    <tr>\n",
       "      <th>177</th>\n",
       "      <td>5</td>\n",
       "      <td>2024-01-18</td>\n",
       "      <td>22</td>\n",
       "      <td>15</td>\n",
       "    </tr>\n",
       "  </tbody>\n",
       "</table>\n",
       "<p>178 rows × 4 columns</p>\n",
       "</div>"
      ],
      "text/plain": [
       "     city_id       date  hour  number_of_flights\n",
       "0          1 2024-01-18     6                  2\n",
       "1          1 2024-01-18     7                  9\n",
       "2          1 2024-01-18     8                  8\n",
       "3          1 2024-01-18     9                 11\n",
       "4          1 2024-01-18    10                 16\n",
       "..       ...        ...   ...                ...\n",
       "173        5 2024-01-18    18                 62\n",
       "174        5 2024-01-18    19                112\n",
       "175        5 2024-01-18    20                 83\n",
       "176        5 2024-01-18    21                 10\n",
       "177        5 2024-01-18    22                 15\n",
       "\n",
       "[178 rows x 4 columns]"
      ]
     },
     "execution_count": 218,
     "metadata": {},
     "output_type": "execute_result"
    }
   ],
   "source": [
    "pd.read_sql(\"flight_data\",con=connection_string)"
   ]
  },
  {
   "cell_type": "code",
   "execution_count": 219,
   "id": "234fb163-95e8-41e7-ae5a-e32f14c86099",
   "metadata": {
    "tags": []
   },
   "outputs": [
    {
     "data": {
      "text/html": [
       "<div>\n",
       "<style scoped>\n",
       "    .dataframe tbody tr th:only-of-type {\n",
       "        vertical-align: middle;\n",
       "    }\n",
       "\n",
       "    .dataframe tbody tr th {\n",
       "        vertical-align: top;\n",
       "    }\n",
       "\n",
       "    .dataframe thead th {\n",
       "        text-align: right;\n",
       "    }\n",
       "</style>\n",
       "<table border=\"1\" class=\"dataframe\">\n",
       "  <thead>\n",
       "    <tr style=\"text-align: right;\">\n",
       "      <th></th>\n",
       "      <th>number_airports</th>\n",
       "      <th>iata</th>\n",
       "      <th>airport_name</th>\n",
       "      <th>city_id</th>\n",
       "    </tr>\n",
       "  </thead>\n",
       "  <tbody>\n",
       "    <tr>\n",
       "      <th>0</th>\n",
       "      <td>1</td>\n",
       "      <td>BER</td>\n",
       "      <td>Berlin Brandenburg</td>\n",
       "      <td>1</td>\n",
       "    </tr>\n",
       "    <tr>\n",
       "      <th>1</th>\n",
       "      <td>1</td>\n",
       "      <td>HAM</td>\n",
       "      <td>Hamburg</td>\n",
       "      <td>2</td>\n",
       "    </tr>\n",
       "    <tr>\n",
       "      <th>2</th>\n",
       "      <td>1</td>\n",
       "      <td>MUC</td>\n",
       "      <td>Munich</td>\n",
       "      <td>3</td>\n",
       "    </tr>\n",
       "    <tr>\n",
       "      <th>3</th>\n",
       "      <td>1</td>\n",
       "      <td>CGN</td>\n",
       "      <td>Cologne Bonn</td>\n",
       "      <td>4</td>\n",
       "    </tr>\n",
       "    <tr>\n",
       "      <th>4</th>\n",
       "      <td>1</td>\n",
       "      <td>FRA</td>\n",
       "      <td>Frankfurt-am-Main</td>\n",
       "      <td>5</td>\n",
       "    </tr>\n",
       "  </tbody>\n",
       "</table>\n",
       "</div>"
      ],
      "text/plain": [
       "   number_airports iata        airport_name  city_id\n",
       "0                1  BER  Berlin Brandenburg        1\n",
       "1                1  HAM            Hamburg         2\n",
       "2                1  MUC             Munich         3\n",
       "3                1  CGN        Cologne Bonn        4\n",
       "4                1  FRA  Frankfurt-am-Main         5"
      ]
     },
     "execution_count": 219,
     "metadata": {},
     "output_type": "execute_result"
    }
   ],
   "source": [
    "pd.read_sql(\"airports\", con=connection_string)"
   ]
  }
 ],
 "metadata": {
  "kernelspec": {
   "display_name": "Python 3 (ipykernel)",
   "language": "python",
   "name": "python3"
  },
  "language_info": {
   "codemirror_mode": {
    "name": "ipython",
    "version": 3
   },
   "file_extension": ".py",
   "mimetype": "text/x-python",
   "name": "python",
   "nbconvert_exporter": "python",
   "pygments_lexer": "ipython3",
   "version": "3.11.5"
  }
 },
 "nbformat": 4,
 "nbformat_minor": 5
}
