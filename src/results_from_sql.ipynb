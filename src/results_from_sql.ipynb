{
 "cells": [
  {
   "cell_type": "code",
   "execution_count": 8,
   "id": "c37fa5b5-f03a-45b9-a0a2-f5619fb38b27",
   "metadata": {
    "tags": []
   },
   "outputs": [],
   "source": [
    "import pandas as pd\n",
    "import seaborn as sns\n",
    "import matplotlib.pyplot as plt"
   ]
  },
  {
   "cell_type": "code",
   "execution_count": 98,
   "id": "bca8c77b-4987-4eb9-94ed-c6476e1f3ba3",
   "metadata": {
    "tags": []
   },
   "outputs": [],
   "source": [
    "results_df = pd.read_csv(\"../data/results_table_weather_flights.csv\")"
   ]
  },
  {
   "cell_type": "code",
   "execution_count": 100,
   "id": "210786d4-1bf2-4f37-b8eb-d89fbd23b5e7",
   "metadata": {
    "tags": []
   },
   "outputs": [],
   "source": [
    "results_df = results_df.drop(columns=[\"city_id\",\"city_id.1\",\"city_id.2\",\"date\", \"3hours_forecast\"])"
   ]
  },
  {
   "cell_type": "code",
   "execution_count": 112,
   "id": "adff8ec5-fc57-4679-b793-2845d5890336",
   "metadata": {
    "tags": []
   },
   "outputs": [],
   "source": [
    "results_df = results_df.rename(\n",
    "    columns={\"round(avg(temperature),2)\":\"avg_temperature\",\n",
    "             \"round(avg(rain_in_last_3h),2)\":\"avg_rain\",\n",
    "             \"round(avg(wind_speed),2)\":\"avg_wind_speed\",\n",
    "            \"3hours_forecast_weather\": \"3hours_forecast\"})"
   ]
  },
  {
   "cell_type": "code",
   "execution_count": 114,
   "id": "38c04db7-c623-4a81-9eab-99c4a1527145",
   "metadata": {
    "tags": []
   },
   "outputs": [],
   "source": [
    "results_df[\"forecast_days\"] = pd.to_datetime(results_df[\"forecast_days\"],errors='coerce')\n",
    "results_df[\"forecast_days\"] = results_df[\"forecast_days\"].dt.date"
   ]
  },
  {
   "cell_type": "code",
   "execution_count": 116,
   "id": "24491a41-3c06-4567-9f73-29161ac997c7",
   "metadata": {
    "tags": []
   },
   "outputs": [
    {
     "data": {
      "text/html": [
       "<div>\n",
       "<style scoped>\n",
       "    .dataframe tbody tr th:only-of-type {\n",
       "        vertical-align: middle;\n",
       "    }\n",
       "\n",
       "    .dataframe tbody tr th {\n",
       "        vertical-align: top;\n",
       "    }\n",
       "\n",
       "    .dataframe thead th {\n",
       "        text-align: right;\n",
       "    }\n",
       "</style>\n",
       "<table border=\"1\" class=\"dataframe\">\n",
       "  <thead>\n",
       "    <tr style=\"text-align: right;\">\n",
       "      <th></th>\n",
       "      <th>avg_temperature</th>\n",
       "      <th>avg_rain</th>\n",
       "      <th>avg_wind_speed</th>\n",
       "      <th>forecast_days</th>\n",
       "      <th>3hours_forecast</th>\n",
       "      <th>city_name</th>\n",
       "      <th>Sum_flights</th>\n",
       "    </tr>\n",
       "  </thead>\n",
       "  <tbody>\n",
       "    <tr>\n",
       "      <th>0</th>\n",
       "      <td>-0.97</td>\n",
       "      <td>0.0</td>\n",
       "      <td>2.10</td>\n",
       "      <td>2024-01-18</td>\n",
       "      <td>0:00-2:59</td>\n",
       "      <td>Berlin</td>\n",
       "      <td>NaN</td>\n",
       "    </tr>\n",
       "    <tr>\n",
       "      <th>1</th>\n",
       "      <td>-1.54</td>\n",
       "      <td>0.0</td>\n",
       "      <td>2.36</td>\n",
       "      <td>2024-01-18</td>\n",
       "      <td>3:00-5:59</td>\n",
       "      <td>Berlin</td>\n",
       "      <td>NaN</td>\n",
       "    </tr>\n",
       "    <tr>\n",
       "      <th>2</th>\n",
       "      <td>-1.80</td>\n",
       "      <td>0.0</td>\n",
       "      <td>1.92</td>\n",
       "      <td>2024-01-18</td>\n",
       "      <td>6:00-8:59</td>\n",
       "      <td>Berlin</td>\n",
       "      <td>19.0</td>\n",
       "    </tr>\n",
       "    <tr>\n",
       "      <th>3</th>\n",
       "      <td>-1.12</td>\n",
       "      <td>0.0</td>\n",
       "      <td>2.07</td>\n",
       "      <td>2024-01-18</td>\n",
       "      <td>9:00-11:59</td>\n",
       "      <td>Berlin</td>\n",
       "      <td>38.0</td>\n",
       "    </tr>\n",
       "    <tr>\n",
       "      <th>4</th>\n",
       "      <td>0.46</td>\n",
       "      <td>0.0</td>\n",
       "      <td>2.54</td>\n",
       "      <td>2024-01-18</td>\n",
       "      <td>12:00-14:59</td>\n",
       "      <td>Berlin</td>\n",
       "      <td>32.0</td>\n",
       "    </tr>\n",
       "  </tbody>\n",
       "</table>\n",
       "</div>"
      ],
      "text/plain": [
       "   avg_temperature  avg_rain  avg_wind_speed forecast_days 3hours_forecast  \\\n",
       "0            -0.97       0.0            2.10    2024-01-18       0:00-2:59   \n",
       "1            -1.54       0.0            2.36    2024-01-18       3:00-5:59   \n",
       "2            -1.80       0.0            1.92    2024-01-18       6:00-8:59   \n",
       "3            -1.12       0.0            2.07    2024-01-18      9:00-11:59   \n",
       "4             0.46       0.0            2.54    2024-01-18     12:00-14:59   \n",
       "\n",
       "  city_name  Sum_flights  \n",
       "0    Berlin          NaN  \n",
       "1    Berlin          NaN  \n",
       "2    Berlin         19.0  \n",
       "3    Berlin         38.0  \n",
       "4    Berlin         32.0  "
      ]
     },
     "execution_count": 116,
     "metadata": {},
     "output_type": "execute_result"
    }
   ],
   "source": [
    "results_df.head()"
   ]
  },
  {
   "cell_type": "code",
   "execution_count": 120,
   "id": "93fea98b-b3eb-431a-93d7-8a4e636518bc",
   "metadata": {
    "tags": []
   },
   "outputs": [
    {
     "data": {
      "text/html": [
       "<div>\n",
       "<style scoped>\n",
       "    .dataframe tbody tr th:only-of-type {\n",
       "        vertical-align: middle;\n",
       "    }\n",
       "\n",
       "    .dataframe tbody tr th {\n",
       "        vertical-align: top;\n",
       "    }\n",
       "\n",
       "    .dataframe thead th {\n",
       "        text-align: right;\n",
       "    }\n",
       "</style>\n",
       "<table border=\"1\" class=\"dataframe\">\n",
       "  <thead>\n",
       "    <tr style=\"text-align: right;\">\n",
       "      <th></th>\n",
       "      <th></th>\n",
       "      <th></th>\n",
       "      <th>avg_temperature</th>\n",
       "      <th>avg_rain</th>\n",
       "      <th>avg_wind_speed</th>\n",
       "      <th>Sum_flights</th>\n",
       "    </tr>\n",
       "    <tr>\n",
       "      <th>city_name</th>\n",
       "      <th>forecast_days</th>\n",
       "      <th>3hours_forecast</th>\n",
       "      <th></th>\n",
       "      <th></th>\n",
       "      <th></th>\n",
       "      <th></th>\n",
       "    </tr>\n",
       "  </thead>\n",
       "  <tbody>\n",
       "    <tr>\n",
       "      <th rowspan=\"5\" valign=\"top\">Berlin</th>\n",
       "      <th rowspan=\"5\" valign=\"top\">2024-01-18</th>\n",
       "      <th>0:00-2:59</th>\n",
       "      <td>-0.97</td>\n",
       "      <td>0.0</td>\n",
       "      <td>2.10</td>\n",
       "      <td>NaN</td>\n",
       "    </tr>\n",
       "    <tr>\n",
       "      <th>12:00-14:59</th>\n",
       "      <td>0.46</td>\n",
       "      <td>0.0</td>\n",
       "      <td>2.54</td>\n",
       "      <td>32.0</td>\n",
       "    </tr>\n",
       "    <tr>\n",
       "      <th>15:00-17:59</th>\n",
       "      <td>-1.25</td>\n",
       "      <td>0.0</td>\n",
       "      <td>2.43</td>\n",
       "      <td>22.0</td>\n",
       "    </tr>\n",
       "    <tr>\n",
       "      <th>18:00-20:59</th>\n",
       "      <td>-2.11</td>\n",
       "      <td>0.0</td>\n",
       "      <td>3.63</td>\n",
       "      <td>33.0</td>\n",
       "    </tr>\n",
       "    <tr>\n",
       "      <th>21:00-23:59</th>\n",
       "      <td>-3.02</td>\n",
       "      <td>0.0</td>\n",
       "      <td>3.60</td>\n",
       "      <td>34.0</td>\n",
       "    </tr>\n",
       "    <tr>\n",
       "      <th>...</th>\n",
       "      <th>...</th>\n",
       "      <th>...</th>\n",
       "      <td>...</td>\n",
       "      <td>...</td>\n",
       "      <td>...</td>\n",
       "      <td>...</td>\n",
       "    </tr>\n",
       "    <tr>\n",
       "      <th rowspan=\"5\" valign=\"top\">Munich</th>\n",
       "      <th rowspan=\"5\" valign=\"top\">2024-01-20</th>\n",
       "      <th>18:00-20:59</th>\n",
       "      <td>-4.02</td>\n",
       "      <td>0.0</td>\n",
       "      <td>2.15</td>\n",
       "      <td>61.0</td>\n",
       "    </tr>\n",
       "    <tr>\n",
       "      <th>21:00-23:59</th>\n",
       "      <td>-4.48</td>\n",
       "      <td>0.0</td>\n",
       "      <td>2.29</td>\n",
       "      <td>20.0</td>\n",
       "    </tr>\n",
       "    <tr>\n",
       "      <th>3:00-5:59</th>\n",
       "      <td>-5.64</td>\n",
       "      <td>0.0</td>\n",
       "      <td>1.38</td>\n",
       "      <td>3.0</td>\n",
       "    </tr>\n",
       "    <tr>\n",
       "      <th>6:00-8:59</th>\n",
       "      <td>-6.07</td>\n",
       "      <td>0.0</td>\n",
       "      <td>0.87</td>\n",
       "      <td>49.0</td>\n",
       "    </tr>\n",
       "    <tr>\n",
       "      <th>9:00-11:59</th>\n",
       "      <td>-3.79</td>\n",
       "      <td>0.0</td>\n",
       "      <td>1.64</td>\n",
       "      <td>75.0</td>\n",
       "    </tr>\n",
       "  </tbody>\n",
       "</table>\n",
       "<p>120 rows × 4 columns</p>\n",
       "</div>"
      ],
      "text/plain": [
       "                                         avg_temperature  avg_rain  \\\n",
       "city_name forecast_days 3hours_forecast                              \n",
       "Berlin    2024-01-18    0:00-2:59                  -0.97       0.0   \n",
       "                        12:00-14:59                 0.46       0.0   \n",
       "                        15:00-17:59                -1.25       0.0   \n",
       "                        18:00-20:59                -2.11       0.0   \n",
       "                        21:00-23:59                -3.02       0.0   \n",
       "...                                                  ...       ...   \n",
       "Munich    2024-01-20    18:00-20:59                -4.02       0.0   \n",
       "                        21:00-23:59                -4.48       0.0   \n",
       "                        3:00-5:59                  -5.64       0.0   \n",
       "                        6:00-8:59                  -6.07       0.0   \n",
       "                        9:00-11:59                 -3.79       0.0   \n",
       "\n",
       "                                         avg_wind_speed  Sum_flights  \n",
       "city_name forecast_days 3hours_forecast                               \n",
       "Berlin    2024-01-18    0:00-2:59                  2.10          NaN  \n",
       "                        12:00-14:59                2.54         32.0  \n",
       "                        15:00-17:59                2.43         22.0  \n",
       "                        18:00-20:59                3.63         33.0  \n",
       "                        21:00-23:59                3.60         34.0  \n",
       "...                                                 ...          ...  \n",
       "Munich    2024-01-20    18:00-20:59                2.15         61.0  \n",
       "                        21:00-23:59                2.29         20.0  \n",
       "                        3:00-5:59                  1.38          3.0  \n",
       "                        6:00-8:59                  0.87         49.0  \n",
       "                        9:00-11:59                 1.64         75.0  \n",
       "\n",
       "[120 rows x 4 columns]"
      ]
     },
     "execution_count": 120,
     "metadata": {},
     "output_type": "execute_result"
    }
   ],
   "source": [
    "results_df.groupby([\"city_name\",\"forecast_days\",\"3hours_forecast\"]).mean()"
   ]
  },
  {
   "cell_type": "code",
   "execution_count": 110,
   "id": "2052301e-4e9a-451c-adad-6db9ee842e29",
   "metadata": {
    "tags": []
   },
   "outputs": [
    {
     "name": "stderr",
     "output_type": "stream",
     "text": [
      "C:\\Users\\hanne\\anaconda3\\Lib\\site-packages\\seaborn\\axisgrid.py:118: UserWarning: The figure layout has changed to tight\n",
      "  self._figure.tight_layout(*args, **kwargs)\n"
     ]
    },
    {
     "data": {
      "image/png": "[encoded data removed]",
      "text/plain": [
       "<Figure size 2500x500 with 5 Axes>"
      ]
     },
     "metadata": {},
     "output_type": "display_data"
    }
   ],
   "source": [
    "sns.catplot(        \n",
    "            data= results_df,\n",
    "            kind = \"bar\",\n",
    "            x = \"forecast_days\",\n",
    "            y = \"Sum_flights\",\n",
    "            palette = \"mako\",\n",
    "            errorbar=None,\n",
    "            col = \"city_name\",\n",
    "            );"
   ]
  },
  {
   "cell_type": "code",
   "execution_count": null,
   "id": "7bb3c641-0c20-4ea2-a50d-43e059ea5c3a",
   "metadata": {},
   "outputs": [],
   "source": []
  }
 ],
 "metadata": {
  "kernelspec": {
   "display_name": "Python 3 (ipykernel)",
   "language": "python",
   "name": "python3"
  },
  "language_info": {
   "codemirror_mode": {
    "name": "ipython",
    "version": 3
   },
   "file_extension": ".py",
   "mimetype": "text/x-python",
   "name": "python",
   "nbconvert_exporter": "python",
   "pygments_lexer": "ipython3",
   "version": "3.11.5"
  }
 },
 "nbformat": 4,
 "nbformat_minor": 5
}
